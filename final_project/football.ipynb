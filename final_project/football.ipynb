{
 "cells": [
  {
   "cell_type": "code",
   "execution_count": 1,
   "metadata": {
    "collapsed": true
   },
   "outputs": [],
   "source": [
    "import sqlite3 as sql\n",
    "import pandas as pd\n",
    "\n",
    "try:\n",
    "    conn = sql.connect('database.sqlite')\n",
    "    # print(conn)\n",
    "except sql.Error as err:\n",
    "    print('ERROR!' + err)\n"
   ]
  },
  {
   "cell_type": "code",
   "execution_count": 57,
   "outputs": [
    {
     "data": {
      "text/plain": "                name\n0    sqlite_sequence\n1  Player_Attributes\n2             Player\n3              Match\n4             League\n5            Country\n6               Team\n7    Team_Attributes",
      "text/html": "<div>\n<style scoped>\n    .dataframe tbody tr th:only-of-type {\n        vertical-align: middle;\n    }\n\n    .dataframe tbody tr th {\n        vertical-align: top;\n    }\n\n    .dataframe thead th {\n        text-align: right;\n    }\n</style>\n<table border=\"1\" class=\"dataframe\">\n  <thead>\n    <tr style=\"text-align: right;\">\n      <th></th>\n      <th>name</th>\n    </tr>\n  </thead>\n  <tbody>\n    <tr>\n      <th>0</th>\n      <td>sqlite_sequence</td>\n    </tr>\n    <tr>\n      <th>1</th>\n      <td>Player_Attributes</td>\n    </tr>\n    <tr>\n      <th>2</th>\n      <td>Player</td>\n    </tr>\n    <tr>\n      <th>3</th>\n      <td>Match</td>\n    </tr>\n    <tr>\n      <th>4</th>\n      <td>League</td>\n    </tr>\n    <tr>\n      <th>5</th>\n      <td>Country</td>\n    </tr>\n    <tr>\n      <th>6</th>\n      <td>Team</td>\n    </tr>\n    <tr>\n      <th>7</th>\n      <td>Team_Attributes</td>\n    </tr>\n  </tbody>\n</table>\n</div>"
     },
     "execution_count": 57,
     "metadata": {},
     "output_type": "execute_result"
    }
   ],
   "source": [
    "pd.read_sql(\n",
    "    \"\"\"\n",
    "        select name\n",
    "        from sqlite_master\n",
    "        where type='table';\n",
    "    \"\"\"\n",
    "    , conn)"
   ],
   "metadata": {
    "collapsed": false,
    "pycharm": {
     "name": "#%%\n"
    }
   }
  },
  {
   "cell_type": "code",
   "execution_count": 58,
   "outputs": [
    {
     "data": {
      "text/plain": "           name\n0       Belgium\n1       England\n2        France\n3       Germany\n4         Italy\n5   Netherlands\n6        Poland\n7      Portugal\n8      Scotland\n9         Spain\n10  Switzerland",
      "text/html": "<div>\n<style scoped>\n    .dataframe tbody tr th:only-of-type {\n        vertical-align: middle;\n    }\n\n    .dataframe tbody tr th {\n        vertical-align: top;\n    }\n\n    .dataframe thead th {\n        text-align: right;\n    }\n</style>\n<table border=\"1\" class=\"dataframe\">\n  <thead>\n    <tr style=\"text-align: right;\">\n      <th></th>\n      <th>name</th>\n    </tr>\n  </thead>\n  <tbody>\n    <tr>\n      <th>0</th>\n      <td>Belgium</td>\n    </tr>\n    <tr>\n      <th>1</th>\n      <td>England</td>\n    </tr>\n    <tr>\n      <th>2</th>\n      <td>France</td>\n    </tr>\n    <tr>\n      <th>3</th>\n      <td>Germany</td>\n    </tr>\n    <tr>\n      <th>4</th>\n      <td>Italy</td>\n    </tr>\n    <tr>\n      <th>5</th>\n      <td>Netherlands</td>\n    </tr>\n    <tr>\n      <th>6</th>\n      <td>Poland</td>\n    </tr>\n    <tr>\n      <th>7</th>\n      <td>Portugal</td>\n    </tr>\n    <tr>\n      <th>8</th>\n      <td>Scotland</td>\n    </tr>\n    <tr>\n      <th>9</th>\n      <td>Spain</td>\n    </tr>\n    <tr>\n      <th>10</th>\n      <td>Switzerland</td>\n    </tr>\n  </tbody>\n</table>\n</div>"
     },
     "execution_count": 58,
     "metadata": {},
     "output_type": "execute_result"
    }
   ],
   "source": [
    "pd.read_sql(\n",
    "    \"\"\"\n",
    "        select name\n",
    "        from Country;\n",
    "    \"\"\"\n",
    "    , conn)"
   ],
   "metadata": {
    "collapsed": false,
    "pycharm": {
     "name": "#%%\n"
    }
   }
  },
  {
   "cell_type": "code",
   "execution_count": 59,
   "outputs": [
    {
     "data": {
      "text/plain": "                      league      country\n0     Belgium Jupiler League      Belgium\n1     England Premier League      England\n2             France Ligue 1       France\n3      Germany 1. Bundesliga      Germany\n4              Italy Serie A        Italy\n5     Netherlands Eredivisie  Netherlands\n6         Poland Ekstraklasa       Poland\n7   Portugal Liga ZON Sagres     Portugal\n8    Scotland Premier League     Scotland\n9            Spain LIGA BBVA        Spain\n10  Switzerland Super League  Switzerland",
      "text/html": "<div>\n<style scoped>\n    .dataframe tbody tr th:only-of-type {\n        vertical-align: middle;\n    }\n\n    .dataframe tbody tr th {\n        vertical-align: top;\n    }\n\n    .dataframe thead th {\n        text-align: right;\n    }\n</style>\n<table border=\"1\" class=\"dataframe\">\n  <thead>\n    <tr style=\"text-align: right;\">\n      <th></th>\n      <th>league</th>\n      <th>country</th>\n    </tr>\n  </thead>\n  <tbody>\n    <tr>\n      <th>0</th>\n      <td>Belgium Jupiler League</td>\n      <td>Belgium</td>\n    </tr>\n    <tr>\n      <th>1</th>\n      <td>England Premier League</td>\n      <td>England</td>\n    </tr>\n    <tr>\n      <th>2</th>\n      <td>France Ligue 1</td>\n      <td>France</td>\n    </tr>\n    <tr>\n      <th>3</th>\n      <td>Germany 1. Bundesliga</td>\n      <td>Germany</td>\n    </tr>\n    <tr>\n      <th>4</th>\n      <td>Italy Serie A</td>\n      <td>Italy</td>\n    </tr>\n    <tr>\n      <th>5</th>\n      <td>Netherlands Eredivisie</td>\n      <td>Netherlands</td>\n    </tr>\n    <tr>\n      <th>6</th>\n      <td>Poland Ekstraklasa</td>\n      <td>Poland</td>\n    </tr>\n    <tr>\n      <th>7</th>\n      <td>Portugal Liga ZON Sagres</td>\n      <td>Portugal</td>\n    </tr>\n    <tr>\n      <th>8</th>\n      <td>Scotland Premier League</td>\n      <td>Scotland</td>\n    </tr>\n    <tr>\n      <th>9</th>\n      <td>Spain LIGA BBVA</td>\n      <td>Spain</td>\n    </tr>\n    <tr>\n      <th>10</th>\n      <td>Switzerland Super League</td>\n      <td>Switzerland</td>\n    </tr>\n  </tbody>\n</table>\n</div>"
     },
     "execution_count": 59,
     "metadata": {},
     "output_type": "execute_result"
    }
   ],
   "source": [
    "pd.read_sql(\n",
    "    \"\"\"\n",
    "        select League.name as league, Country.name as country\n",
    "        from League\n",
    "        left join Country\n",
    "        on League.country_id = Country.id\n",
    "        ;\n",
    "    \"\"\"\n",
    "    , conn)"
   ],
   "metadata": {
    "collapsed": false,
    "pycharm": {
     "name": "#%%\n"
    }
   }
  },
  {
   "cell_type": "code",
   "execution_count": 60,
   "outputs": [
    {
     "data": {
      "text/plain": "                         name\n0        1. FC Kaiserslautern\n1                  1. FC Köln\n2              1. FC Nürnberg\n3             1. FSV Mainz 05\n4                  AC Ajaccio\n..                        ...\n294      Xerez Club Deportivo\n295            Zagłębie Lubin\n296         Zawisza Bydgoszcz\n297  Évian Thonon Gaillard FC\n298             Śląsk Wrocław\n\n[299 rows x 1 columns]",
      "text/html": "<div>\n<style scoped>\n    .dataframe tbody tr th:only-of-type {\n        vertical-align: middle;\n    }\n\n    .dataframe tbody tr th {\n        vertical-align: top;\n    }\n\n    .dataframe thead th {\n        text-align: right;\n    }\n</style>\n<table border=\"1\" class=\"dataframe\">\n  <thead>\n    <tr style=\"text-align: right;\">\n      <th></th>\n      <th>name</th>\n    </tr>\n  </thead>\n  <tbody>\n    <tr>\n      <th>0</th>\n      <td>1. FC Kaiserslautern</td>\n    </tr>\n    <tr>\n      <th>1</th>\n      <td>1. FC Köln</td>\n    </tr>\n    <tr>\n      <th>2</th>\n      <td>1. FC Nürnberg</td>\n    </tr>\n    <tr>\n      <th>3</th>\n      <td>1. FSV Mainz 05</td>\n    </tr>\n    <tr>\n      <th>4</th>\n      <td>AC Ajaccio</td>\n    </tr>\n    <tr>\n      <th>...</th>\n      <td>...</td>\n    </tr>\n    <tr>\n      <th>294</th>\n      <td>Xerez Club Deportivo</td>\n    </tr>\n    <tr>\n      <th>295</th>\n      <td>Zagłębie Lubin</td>\n    </tr>\n    <tr>\n      <th>296</th>\n      <td>Zawisza Bydgoszcz</td>\n    </tr>\n    <tr>\n      <th>297</th>\n      <td>Évian Thonon Gaillard FC</td>\n    </tr>\n    <tr>\n      <th>298</th>\n      <td>Śląsk Wrocław</td>\n    </tr>\n  </tbody>\n</table>\n<p>299 rows × 1 columns</p>\n</div>"
     },
     "execution_count": 60,
     "metadata": {},
     "output_type": "execute_result"
    }
   ],
   "source": [
    "pd.read_sql(\n",
    "    \"\"\"\n",
    "        select team_long_name as name\n",
    "        from Team\n",
    "        order by name\n",
    "        ;\n",
    "    \"\"\"\n",
    "    , conn)"
   ],
   "metadata": {
    "collapsed": false,
    "pycharm": {
     "name": "#%%\n"
    }
   }
  },
  {
   "cell_type": "code",
   "execution_count": 36,
   "outputs": [
    {
     "data": {
      "text/plain": "     country           league     season  home_team_goal  away_team_goal  \\\n0      Spain  Spain LIGA BBVA  2008/2009               3               0   \n1      Spain  Spain LIGA BBVA  2008/2009               1               1   \n2      Spain  Spain LIGA BBVA  2008/2009               2               1   \n3      Spain  Spain LIGA BBVA  2008/2009               1               0   \n4      Spain  Spain LIGA BBVA  2008/2009               1               1   \n...      ...              ...        ...             ...             ...   \n3035   Spain  Spain LIGA BBVA  2015/2016               2               1   \n3036   Spain  Spain LIGA BBVA  2015/2016               2               0   \n3037   Spain  Spain LIGA BBVA  2015/2016               3               0   \n3038   Spain  Spain LIGA BBVA  2015/2016               1               1   \n3039   Spain  Spain LIGA BBVA  2015/2016               3               0   \n\n                     date  \n0     2008-08-30 00:00:00  \n1     2008-08-31 00:00:00  \n2     2008-08-31 00:00:00  \n3     2008-08-31 00:00:00  \n4     2008-08-31 00:00:00  \n...                   ...  \n3035  2015-10-25 00:00:00  \n3036  2015-10-24 00:00:00  \n3037  2015-10-26 00:00:00  \n3038  2015-10-24 00:00:00  \n3039  2015-10-23 00:00:00  \n\n[3040 rows x 6 columns]",
      "text/html": "<div>\n<style scoped>\n    .dataframe tbody tr th:only-of-type {\n        vertical-align: middle;\n    }\n\n    .dataframe tbody tr th {\n        vertical-align: top;\n    }\n\n    .dataframe thead th {\n        text-align: right;\n    }\n</style>\n<table border=\"1\" class=\"dataframe\">\n  <thead>\n    <tr style=\"text-align: right;\">\n      <th></th>\n      <th>country</th>\n      <th>league</th>\n      <th>season</th>\n      <th>home_team_goal</th>\n      <th>away_team_goal</th>\n      <th>date</th>\n    </tr>\n  </thead>\n  <tbody>\n    <tr>\n      <th>0</th>\n      <td>Spain</td>\n      <td>Spain LIGA BBVA</td>\n      <td>2008/2009</td>\n      <td>3</td>\n      <td>0</td>\n      <td>2008-08-30 00:00:00</td>\n    </tr>\n    <tr>\n      <th>1</th>\n      <td>Spain</td>\n      <td>Spain LIGA BBVA</td>\n      <td>2008/2009</td>\n      <td>1</td>\n      <td>1</td>\n      <td>2008-08-31 00:00:00</td>\n    </tr>\n    <tr>\n      <th>2</th>\n      <td>Spain</td>\n      <td>Spain LIGA BBVA</td>\n      <td>2008/2009</td>\n      <td>2</td>\n      <td>1</td>\n      <td>2008-08-31 00:00:00</td>\n    </tr>\n    <tr>\n      <th>3</th>\n      <td>Spain</td>\n      <td>Spain LIGA BBVA</td>\n      <td>2008/2009</td>\n      <td>1</td>\n      <td>0</td>\n      <td>2008-08-31 00:00:00</td>\n    </tr>\n    <tr>\n      <th>4</th>\n      <td>Spain</td>\n      <td>Spain LIGA BBVA</td>\n      <td>2008/2009</td>\n      <td>1</td>\n      <td>1</td>\n      <td>2008-08-31 00:00:00</td>\n    </tr>\n    <tr>\n      <th>...</th>\n      <td>...</td>\n      <td>...</td>\n      <td>...</td>\n      <td>...</td>\n      <td>...</td>\n      <td>...</td>\n    </tr>\n    <tr>\n      <th>3035</th>\n      <td>Spain</td>\n      <td>Spain LIGA BBVA</td>\n      <td>2015/2016</td>\n      <td>2</td>\n      <td>1</td>\n      <td>2015-10-25 00:00:00</td>\n    </tr>\n    <tr>\n      <th>3036</th>\n      <td>Spain</td>\n      <td>Spain LIGA BBVA</td>\n      <td>2015/2016</td>\n      <td>2</td>\n      <td>0</td>\n      <td>2015-10-24 00:00:00</td>\n    </tr>\n    <tr>\n      <th>3037</th>\n      <td>Spain</td>\n      <td>Spain LIGA BBVA</td>\n      <td>2015/2016</td>\n      <td>3</td>\n      <td>0</td>\n      <td>2015-10-26 00:00:00</td>\n    </tr>\n    <tr>\n      <th>3038</th>\n      <td>Spain</td>\n      <td>Spain LIGA BBVA</td>\n      <td>2015/2016</td>\n      <td>1</td>\n      <td>1</td>\n      <td>2015-10-24 00:00:00</td>\n    </tr>\n    <tr>\n      <th>3039</th>\n      <td>Spain</td>\n      <td>Spain LIGA BBVA</td>\n      <td>2015/2016</td>\n      <td>3</td>\n      <td>0</td>\n      <td>2015-10-23 00:00:00</td>\n    </tr>\n  </tbody>\n</table>\n<p>3040 rows × 6 columns</p>\n</div>"
     },
     "execution_count": 36,
     "metadata": {},
     "output_type": "execute_result"
    }
   ],
   "source": [
    "pd.read_sql(\n",
    "    \"\"\"\n",
    "        select Country.name as country ,League.name as league, Match.season,Match.home_team_goal, Match.away_team_goal, Match.date\n",
    "        from Match\n",
    "        inner join Country , League\n",
    "        on Match.country_id = Country.id and Country.name='Spain' and League.id=Match.league_id\n",
    "        ;\n",
    "    \"\"\"\n",
    "    , conn)"
   ],
   "metadata": {
    "collapsed": false,
    "pycharm": {
     "name": "#%%\n"
    }
   }
  },
  {
   "cell_type": "code",
   "execution_count": 61,
   "outputs": [
    {
     "data": {
      "text/plain": "    country                  league     season  \\\n0   England  England Premier League  2008/2009   \n1   England  England Premier League  2009/2010   \n2   England  England Premier League  2010/2011   \n3   England  England Premier League  2011/2012   \n4   England  England Premier League  2012/2013   \n5   England  England Premier League  2013/2014   \n6   England  England Premier League  2014/2015   \n7   England  England Premier League  2015/2016   \n8    France          France Ligue 1  2008/2009   \n9    France          France Ligue 1  2009/2010   \n10   France          France Ligue 1  2010/2011   \n11   France          France Ligue 1  2011/2012   \n12   France          France Ligue 1  2012/2013   \n13   France          France Ligue 1  2013/2014   \n14   France          France Ligue 1  2014/2015   \n15   France          France Ligue 1  2015/2016   \n16  Germany   Germany 1. Bundesliga  2008/2009   \n17  Germany   Germany 1. Bundesliga  2009/2010   \n18  Germany   Germany 1. Bundesliga  2010/2011   \n19  Germany   Germany 1. Bundesliga  2011/2012   \n20  Germany   Germany 1. Bundesliga  2012/2013   \n21  Germany   Germany 1. Bundesliga  2013/2014   \n22  Germany   Germany 1. Bundesliga  2014/2015   \n23  Germany   Germany 1. Bundesliga  2015/2016   \n24    Italy           Italy Serie A  2008/2009   \n25    Italy           Italy Serie A  2009/2010   \n26    Italy           Italy Serie A  2010/2011   \n27    Italy           Italy Serie A  2011/2012   \n28    Italy           Italy Serie A  2012/2013   \n29    Italy           Italy Serie A  2013/2014   \n30    Italy           Italy Serie A  2014/2015   \n31    Italy           Italy Serie A  2015/2016   \n32    Spain         Spain LIGA BBVA  2008/2009   \n33    Spain         Spain LIGA BBVA  2009/2010   \n34    Spain         Spain LIGA BBVA  2010/2011   \n35    Spain         Spain LIGA BBVA  2011/2012   \n36    Spain         Spain LIGA BBVA  2012/2013   \n37    Spain         Spain LIGA BBVA  2013/2014   \n38    Spain         Spain LIGA BBVA  2014/2015   \n39    Spain         Spain LIGA BBVA  2015/2016   \n\n    count(distinct(Match.home_team_api_id))  avg(Match.home_team_goal)  \\\n0                                        20                   1.400000   \n1                                        20                   1.697368   \n2                                        20                   1.623684   \n3                                        20                   1.589474   \n4                                        20                   1.557895   \n5                                        20                   1.573684   \n6                                        20                   1.473684   \n7                                        20                   1.492105   \n8                                        20                   1.286842   \n9                                        20                   1.389474   \n10                                       20                   1.342105   \n11                                       20                   1.473684   \n12                                       20                   1.468421   \n13                                       20                   1.415789   \n14                                       20                   1.410526   \n15                                       20                   1.436842   \n16                                       18                   1.699346   \n17                                       18                   1.513072   \n18                                       18                   1.647059   \n19                                       18                   1.660131   \n20                                       18                   1.591503   \n21                                       18                   1.748366   \n22                                       18                   1.588235   \n23                                       18                   1.565359   \n24                                       20                   1.521053   \n25                                       20                   1.542105   \n26                                       20                   1.431579   \n27                                       20                   1.511173   \n28                                       20                   1.494737   \n29                                       20                   1.536842   \n30                                       20                   1.498681   \n31                                       20                   1.471053   \n32                                       20                   1.660526   \n33                                       20                   1.600000   \n34                                       20                   1.636842   \n35                                       20                   1.678947   \n36                                       20                   1.686842   \n37                                       20                   1.631579   \n38                                       20                   1.536842   \n39                                       20                   1.618421   \n\n    avg(Match.away_team_goal)  \\\n0                    1.078947   \n1                    1.073684   \n2                    1.173684   \n3                    1.215789   \n4                    1.239474   \n5                    1.194737   \n6                    1.092105   \n7                    1.207895   \n8                    0.971053   \n9                    1.021053   \n10                   1.000000   \n11                   1.042105   \n12                   1.076316   \n13                   1.039474   \n14                   1.081579   \n15                   1.089474   \n16                   1.222222   \n17                   1.316993   \n18                   1.274510   \n19                   1.199346   \n20                   1.343137   \n21                   1.411765   \n22                   1.166667   \n23                   1.264706   \n24                   1.078947   \n25                   1.068421   \n26                   1.081579   \n27                   1.072626   \n28                   1.144737   \n29                   1.186842   \n30                   1.187335   \n31                   1.105263   \n32                   1.236842   \n33                   1.113158   \n34                   1.105263   \n35                   1.084211   \n36                   1.184211   \n37                   1.118421   \n38                   1.118421   \n39                   1.126316   \n\n    avg(abs(Match.home_team_goal - Match.away_team_goal))  \\\n0                                            1.305263       \n1                                            1.471053       \n2                                            1.276316       \n3                                            1.442105       \n4                                            1.250000       \n5                                            1.515789       \n6                                            1.292105       \n7                                            1.289474       \n8                                            1.094737       \n9                                            1.294737       \n10                                           1.105263       \n11                                           1.184211       \n12                                           1.239474       \n13                                           1.223684       \n14                                           1.313158       \n15                                           1.331579       \n16                                           1.431373       \n17                                           1.346405       \n18                                           1.490196       \n19                                           1.480392       \n20                                           1.431373       \n21                                           1.598039       \n22                                           1.343137       \n23                                           1.457516       \n24                                           1.284211       \n25                                           1.168421       \n26                                           1.213158       \n27                                           1.276536       \n28                                           1.313158       \n29                                           1.350000       \n30                                           1.187335       \n31                                           1.302632       \n32                                           1.381579       \n33                                           1.386842       \n34                                           1.473684       \n35                                           1.473684       \n36                                           1.428947       \n37                                           1.497368       \n38                                           1.481579       \n39                                           1.502632       \n\n    avg(Match.home_team_goal + Match.away_team_goal)  \\\n0                                           2.478947   \n1                                           2.771053   \n2                                           2.797368   \n3                                           2.805263   \n4                                           2.797368   \n5                                           2.768421   \n6                                           2.565789   \n7                                           2.700000   \n8                                           2.257895   \n9                                           2.410526   \n10                                          2.342105   \n11                                          2.515789   \n12                                          2.544737   \n13                                          2.455263   \n14                                          2.492105   \n15                                          2.526316   \n16                                          2.921569   \n17                                          2.830065   \n18                                          2.921569   \n19                                          2.859477   \n20                                          2.934641   \n21                                          3.160131   \n22                                          2.754902   \n23                                          2.830065   \n24                                          2.600000   \n25                                          2.610526   \n26                                          2.513158   \n27                                          2.583799   \n28                                          2.639474   \n29                                          2.723684   \n30                                          2.686016   \n31                                          2.576316   \n32                                          2.897368   \n33                                          2.713158   \n34                                          2.742105   \n35                                          2.763158   \n36                                          2.871053   \n37                                          2.750000   \n38                                          2.655263   \n39                                          2.744737   \n\n    sum(Match.home_team_goal + Match.away_team_goal)  \n0                                                942  \n1                                               1053  \n2                                               1063  \n3                                               1066  \n4                                               1063  \n5                                               1052  \n6                                                975  \n7                                               1026  \n8                                                858  \n9                                                916  \n10                                               890  \n11                                               956  \n12                                               967  \n13                                               933  \n14                                               947  \n15                                               960  \n16                                               894  \n17                                               866  \n18                                               894  \n19                                               875  \n20                                               898  \n21                                               967  \n22                                               843  \n23                                               866  \n24                                               988  \n25                                               992  \n26                                               955  \n27                                               925  \n28                                              1003  \n29                                              1035  \n30                                              1018  \n31                                               979  \n32                                              1101  \n33                                              1031  \n34                                              1042  \n35                                              1050  \n36                                              1091  \n37                                              1045  \n38                                              1009  \n39                                              1043  ",
      "text/html": "<div>\n<style scoped>\n    .dataframe tbody tr th:only-of-type {\n        vertical-align: middle;\n    }\n\n    .dataframe tbody tr th {\n        vertical-align: top;\n    }\n\n    .dataframe thead th {\n        text-align: right;\n    }\n</style>\n<table border=\"1\" class=\"dataframe\">\n  <thead>\n    <tr style=\"text-align: right;\">\n      <th></th>\n      <th>country</th>\n      <th>league</th>\n      <th>season</th>\n      <th>count(distinct(Match.home_team_api_id))</th>\n      <th>avg(Match.home_team_goal)</th>\n      <th>avg(Match.away_team_goal)</th>\n      <th>avg(abs(Match.home_team_goal - Match.away_team_goal))</th>\n      <th>avg(Match.home_team_goal + Match.away_team_goal)</th>\n      <th>sum(Match.home_team_goal + Match.away_team_goal)</th>\n    </tr>\n  </thead>\n  <tbody>\n    <tr>\n      <th>0</th>\n      <td>England</td>\n      <td>England Premier League</td>\n      <td>2008/2009</td>\n      <td>20</td>\n      <td>1.400000</td>\n      <td>1.078947</td>\n      <td>1.305263</td>\n      <td>2.478947</td>\n      <td>942</td>\n    </tr>\n    <tr>\n      <th>1</th>\n      <td>England</td>\n      <td>England Premier League</td>\n      <td>2009/2010</td>\n      <td>20</td>\n      <td>1.697368</td>\n      <td>1.073684</td>\n      <td>1.471053</td>\n      <td>2.771053</td>\n      <td>1053</td>\n    </tr>\n    <tr>\n      <th>2</th>\n      <td>England</td>\n      <td>England Premier League</td>\n      <td>2010/2011</td>\n      <td>20</td>\n      <td>1.623684</td>\n      <td>1.173684</td>\n      <td>1.276316</td>\n      <td>2.797368</td>\n      <td>1063</td>\n    </tr>\n    <tr>\n      <th>3</th>\n      <td>England</td>\n      <td>England Premier League</td>\n      <td>2011/2012</td>\n      <td>20</td>\n      <td>1.589474</td>\n      <td>1.215789</td>\n      <td>1.442105</td>\n      <td>2.805263</td>\n      <td>1066</td>\n    </tr>\n    <tr>\n      <th>4</th>\n      <td>England</td>\n      <td>England Premier League</td>\n      <td>2012/2013</td>\n      <td>20</td>\n      <td>1.557895</td>\n      <td>1.239474</td>\n      <td>1.250000</td>\n      <td>2.797368</td>\n      <td>1063</td>\n    </tr>\n    <tr>\n      <th>5</th>\n      <td>England</td>\n      <td>England Premier League</td>\n      <td>2013/2014</td>\n      <td>20</td>\n      <td>1.573684</td>\n      <td>1.194737</td>\n      <td>1.515789</td>\n      <td>2.768421</td>\n      <td>1052</td>\n    </tr>\n    <tr>\n      <th>6</th>\n      <td>England</td>\n      <td>England Premier League</td>\n      <td>2014/2015</td>\n      <td>20</td>\n      <td>1.473684</td>\n      <td>1.092105</td>\n      <td>1.292105</td>\n      <td>2.565789</td>\n      <td>975</td>\n    </tr>\n    <tr>\n      <th>7</th>\n      <td>England</td>\n      <td>England Premier League</td>\n      <td>2015/2016</td>\n      <td>20</td>\n      <td>1.492105</td>\n      <td>1.207895</td>\n      <td>1.289474</td>\n      <td>2.700000</td>\n      <td>1026</td>\n    </tr>\n    <tr>\n      <th>8</th>\n      <td>France</td>\n      <td>France Ligue 1</td>\n      <td>2008/2009</td>\n      <td>20</td>\n      <td>1.286842</td>\n      <td>0.971053</td>\n      <td>1.094737</td>\n      <td>2.257895</td>\n      <td>858</td>\n    </tr>\n    <tr>\n      <th>9</th>\n      <td>France</td>\n      <td>France Ligue 1</td>\n      <td>2009/2010</td>\n      <td>20</td>\n      <td>1.389474</td>\n      <td>1.021053</td>\n      <td>1.294737</td>\n      <td>2.410526</td>\n      <td>916</td>\n    </tr>\n    <tr>\n      <th>10</th>\n      <td>France</td>\n      <td>France Ligue 1</td>\n      <td>2010/2011</td>\n      <td>20</td>\n      <td>1.342105</td>\n      <td>1.000000</td>\n      <td>1.105263</td>\n      <td>2.342105</td>\n      <td>890</td>\n    </tr>\n    <tr>\n      <th>11</th>\n      <td>France</td>\n      <td>France Ligue 1</td>\n      <td>2011/2012</td>\n      <td>20</td>\n      <td>1.473684</td>\n      <td>1.042105</td>\n      <td>1.184211</td>\n      <td>2.515789</td>\n      <td>956</td>\n    </tr>\n    <tr>\n      <th>12</th>\n      <td>France</td>\n      <td>France Ligue 1</td>\n      <td>2012/2013</td>\n      <td>20</td>\n      <td>1.468421</td>\n      <td>1.076316</td>\n      <td>1.239474</td>\n      <td>2.544737</td>\n      <td>967</td>\n    </tr>\n    <tr>\n      <th>13</th>\n      <td>France</td>\n      <td>France Ligue 1</td>\n      <td>2013/2014</td>\n      <td>20</td>\n      <td>1.415789</td>\n      <td>1.039474</td>\n      <td>1.223684</td>\n      <td>2.455263</td>\n      <td>933</td>\n    </tr>\n    <tr>\n      <th>14</th>\n      <td>France</td>\n      <td>France Ligue 1</td>\n      <td>2014/2015</td>\n      <td>20</td>\n      <td>1.410526</td>\n      <td>1.081579</td>\n      <td>1.313158</td>\n      <td>2.492105</td>\n      <td>947</td>\n    </tr>\n    <tr>\n      <th>15</th>\n      <td>France</td>\n      <td>France Ligue 1</td>\n      <td>2015/2016</td>\n      <td>20</td>\n      <td>1.436842</td>\n      <td>1.089474</td>\n      <td>1.331579</td>\n      <td>2.526316</td>\n      <td>960</td>\n    </tr>\n    <tr>\n      <th>16</th>\n      <td>Germany</td>\n      <td>Germany 1. Bundesliga</td>\n      <td>2008/2009</td>\n      <td>18</td>\n      <td>1.699346</td>\n      <td>1.222222</td>\n      <td>1.431373</td>\n      <td>2.921569</td>\n      <td>894</td>\n    </tr>\n    <tr>\n      <th>17</th>\n      <td>Germany</td>\n      <td>Germany 1. Bundesliga</td>\n      <td>2009/2010</td>\n      <td>18</td>\n      <td>1.513072</td>\n      <td>1.316993</td>\n      <td>1.346405</td>\n      <td>2.830065</td>\n      <td>866</td>\n    </tr>\n    <tr>\n      <th>18</th>\n      <td>Germany</td>\n      <td>Germany 1. Bundesliga</td>\n      <td>2010/2011</td>\n      <td>18</td>\n      <td>1.647059</td>\n      <td>1.274510</td>\n      <td>1.490196</td>\n      <td>2.921569</td>\n      <td>894</td>\n    </tr>\n    <tr>\n      <th>19</th>\n      <td>Germany</td>\n      <td>Germany 1. Bundesliga</td>\n      <td>2011/2012</td>\n      <td>18</td>\n      <td>1.660131</td>\n      <td>1.199346</td>\n      <td>1.480392</td>\n      <td>2.859477</td>\n      <td>875</td>\n    </tr>\n    <tr>\n      <th>20</th>\n      <td>Germany</td>\n      <td>Germany 1. Bundesliga</td>\n      <td>2012/2013</td>\n      <td>18</td>\n      <td>1.591503</td>\n      <td>1.343137</td>\n      <td>1.431373</td>\n      <td>2.934641</td>\n      <td>898</td>\n    </tr>\n    <tr>\n      <th>21</th>\n      <td>Germany</td>\n      <td>Germany 1. Bundesliga</td>\n      <td>2013/2014</td>\n      <td>18</td>\n      <td>1.748366</td>\n      <td>1.411765</td>\n      <td>1.598039</td>\n      <td>3.160131</td>\n      <td>967</td>\n    </tr>\n    <tr>\n      <th>22</th>\n      <td>Germany</td>\n      <td>Germany 1. Bundesliga</td>\n      <td>2014/2015</td>\n      <td>18</td>\n      <td>1.588235</td>\n      <td>1.166667</td>\n      <td>1.343137</td>\n      <td>2.754902</td>\n      <td>843</td>\n    </tr>\n    <tr>\n      <th>23</th>\n      <td>Germany</td>\n      <td>Germany 1. Bundesliga</td>\n      <td>2015/2016</td>\n      <td>18</td>\n      <td>1.565359</td>\n      <td>1.264706</td>\n      <td>1.457516</td>\n      <td>2.830065</td>\n      <td>866</td>\n    </tr>\n    <tr>\n      <th>24</th>\n      <td>Italy</td>\n      <td>Italy Serie A</td>\n      <td>2008/2009</td>\n      <td>20</td>\n      <td>1.521053</td>\n      <td>1.078947</td>\n      <td>1.284211</td>\n      <td>2.600000</td>\n      <td>988</td>\n    </tr>\n    <tr>\n      <th>25</th>\n      <td>Italy</td>\n      <td>Italy Serie A</td>\n      <td>2009/2010</td>\n      <td>20</td>\n      <td>1.542105</td>\n      <td>1.068421</td>\n      <td>1.168421</td>\n      <td>2.610526</td>\n      <td>992</td>\n    </tr>\n    <tr>\n      <th>26</th>\n      <td>Italy</td>\n      <td>Italy Serie A</td>\n      <td>2010/2011</td>\n      <td>20</td>\n      <td>1.431579</td>\n      <td>1.081579</td>\n      <td>1.213158</td>\n      <td>2.513158</td>\n      <td>955</td>\n    </tr>\n    <tr>\n      <th>27</th>\n      <td>Italy</td>\n      <td>Italy Serie A</td>\n      <td>2011/2012</td>\n      <td>20</td>\n      <td>1.511173</td>\n      <td>1.072626</td>\n      <td>1.276536</td>\n      <td>2.583799</td>\n      <td>925</td>\n    </tr>\n    <tr>\n      <th>28</th>\n      <td>Italy</td>\n      <td>Italy Serie A</td>\n      <td>2012/2013</td>\n      <td>20</td>\n      <td>1.494737</td>\n      <td>1.144737</td>\n      <td>1.313158</td>\n      <td>2.639474</td>\n      <td>1003</td>\n    </tr>\n    <tr>\n      <th>29</th>\n      <td>Italy</td>\n      <td>Italy Serie A</td>\n      <td>2013/2014</td>\n      <td>20</td>\n      <td>1.536842</td>\n      <td>1.186842</td>\n      <td>1.350000</td>\n      <td>2.723684</td>\n      <td>1035</td>\n    </tr>\n    <tr>\n      <th>30</th>\n      <td>Italy</td>\n      <td>Italy Serie A</td>\n      <td>2014/2015</td>\n      <td>20</td>\n      <td>1.498681</td>\n      <td>1.187335</td>\n      <td>1.187335</td>\n      <td>2.686016</td>\n      <td>1018</td>\n    </tr>\n    <tr>\n      <th>31</th>\n      <td>Italy</td>\n      <td>Italy Serie A</td>\n      <td>2015/2016</td>\n      <td>20</td>\n      <td>1.471053</td>\n      <td>1.105263</td>\n      <td>1.302632</td>\n      <td>2.576316</td>\n      <td>979</td>\n    </tr>\n    <tr>\n      <th>32</th>\n      <td>Spain</td>\n      <td>Spain LIGA BBVA</td>\n      <td>2008/2009</td>\n      <td>20</td>\n      <td>1.660526</td>\n      <td>1.236842</td>\n      <td>1.381579</td>\n      <td>2.897368</td>\n      <td>1101</td>\n    </tr>\n    <tr>\n      <th>33</th>\n      <td>Spain</td>\n      <td>Spain LIGA BBVA</td>\n      <td>2009/2010</td>\n      <td>20</td>\n      <td>1.600000</td>\n      <td>1.113158</td>\n      <td>1.386842</td>\n      <td>2.713158</td>\n      <td>1031</td>\n    </tr>\n    <tr>\n      <th>34</th>\n      <td>Spain</td>\n      <td>Spain LIGA BBVA</td>\n      <td>2010/2011</td>\n      <td>20</td>\n      <td>1.636842</td>\n      <td>1.105263</td>\n      <td>1.473684</td>\n      <td>2.742105</td>\n      <td>1042</td>\n    </tr>\n    <tr>\n      <th>35</th>\n      <td>Spain</td>\n      <td>Spain LIGA BBVA</td>\n      <td>2011/2012</td>\n      <td>20</td>\n      <td>1.678947</td>\n      <td>1.084211</td>\n      <td>1.473684</td>\n      <td>2.763158</td>\n      <td>1050</td>\n    </tr>\n    <tr>\n      <th>36</th>\n      <td>Spain</td>\n      <td>Spain LIGA BBVA</td>\n      <td>2012/2013</td>\n      <td>20</td>\n      <td>1.686842</td>\n      <td>1.184211</td>\n      <td>1.428947</td>\n      <td>2.871053</td>\n      <td>1091</td>\n    </tr>\n    <tr>\n      <th>37</th>\n      <td>Spain</td>\n      <td>Spain LIGA BBVA</td>\n      <td>2013/2014</td>\n      <td>20</td>\n      <td>1.631579</td>\n      <td>1.118421</td>\n      <td>1.497368</td>\n      <td>2.750000</td>\n      <td>1045</td>\n    </tr>\n    <tr>\n      <th>38</th>\n      <td>Spain</td>\n      <td>Spain LIGA BBVA</td>\n      <td>2014/2015</td>\n      <td>20</td>\n      <td>1.536842</td>\n      <td>1.118421</td>\n      <td>1.481579</td>\n      <td>2.655263</td>\n      <td>1009</td>\n    </tr>\n    <tr>\n      <th>39</th>\n      <td>Spain</td>\n      <td>Spain LIGA BBVA</td>\n      <td>2015/2016</td>\n      <td>20</td>\n      <td>1.618421</td>\n      <td>1.126316</td>\n      <td>1.502632</td>\n      <td>2.744737</td>\n      <td>1043</td>\n    </tr>\n  </tbody>\n</table>\n</div>"
     },
     "execution_count": 61,
     "metadata": {},
     "output_type": "execute_result"
    }
   ],
   "source": [
    "pd.read_sql(\n",
    "    \"\"\"\n",
    "        select Country.name as country, League.name as league, Match.season, count(distinct(Match.home_team_api_id))\n",
    "                ,avg(Match.home_team_goal), avg(Match.away_team_goal), avg(abs(Match.home_team_goal - Match.away_team_goal))\n",
    "                ,avg(Match.home_team_goal + Match.away_team_goal), sum(Match.home_team_goal + Match.away_team_goal)\n",
    "        from Match\n",
    "        inner join Country , League\n",
    "        on Match.country_id = Country.id and League.id=Match.league_id\n",
    "        where Country.name='Spain' or Country.name='Germany' or Country.name='France' or Country.name='Italy' or Country.name='England'\n",
    "\n",
    "        group by Country.name , League.name ,Match.season\n",
    "        ;\n",
    "    \"\"\"\n",
    "    , conn)"
   ],
   "metadata": {
    "collapsed": false,
    "pycharm": {
     "name": "#%%\n"
    }
   }
  }
 ],
 "metadata": {
  "kernelspec": {
   "display_name": "Python 3",
   "language": "python",
   "name": "python3"
  },
  "language_info": {
   "codemirror_mode": {
    "name": "ipython",
    "version": 2
   },
   "file_extension": ".py",
   "mimetype": "text/x-python",
   "name": "python",
   "nbconvert_exporter": "python",
   "pygments_lexer": "ipython2",
   "version": "2.7.6"
  }
 },
 "nbformat": 4,
 "nbformat_minor": 0
}