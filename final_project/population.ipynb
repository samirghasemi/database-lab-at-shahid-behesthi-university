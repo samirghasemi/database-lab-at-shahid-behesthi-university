{
 "cells": [
  {
   "cell_type": "code",
   "execution_count": 3,
   "metadata": {
    "collapsed": true
   },
   "outputs": [],
   "source": [
    "import sqlite3 as sql\n",
    "import pandas as pd\n",
    "\n",
    "try:\n",
    "    conn = sql.connect('population_data.db')\n",
    "    # print(conn)\n",
    "except sql.Error as err:\n",
    "    print('ERROR!' + err)"
   ]
  },
  {
   "cell_type": "code",
   "execution_count": 5,
   "outputs": [
    {
     "data": {
      "text/plain": "              name\n0  sqlite_sequence\n1            facts",
      "text/html": "<div>\n<style scoped>\n    .dataframe tbody tr th:only-of-type {\n        vertical-align: middle;\n    }\n\n    .dataframe tbody tr th {\n        vertical-align: top;\n    }\n\n    .dataframe thead th {\n        text-align: right;\n    }\n</style>\n<table border=\"1\" class=\"dataframe\">\n  <thead>\n    <tr style=\"text-align: right;\">\n      <th></th>\n      <th>name</th>\n    </tr>\n  </thead>\n  <tbody>\n    <tr>\n      <th>0</th>\n      <td>sqlite_sequence</td>\n    </tr>\n    <tr>\n      <th>1</th>\n      <td>facts</td>\n    </tr>\n  </tbody>\n</table>\n</div>"
     },
     "execution_count": 5,
     "metadata": {},
     "output_type": "execute_result"
    }
   ],
   "source": [
    "pd.read_sql(\n",
    "    \"\"\"\n",
    "        select name\n",
    "        from sqlite_master\n",
    "        where type='table';\n",
    "    \"\"\"\n",
    ", conn)"
   ],
   "metadata": {
    "collapsed": false,
    "pycharm": {
     "name": "#%%\n"
    }
   }
  },
  {
   "cell_type": "code",
   "execution_count": 7,
   "outputs": [
    {
     "data": {
      "text/plain": "      id code            name       area  area_land  area_water    population  \\\n0      1   af     Afghanistan   652230.0   652230.0         0.0  3.256434e+07   \n1      2   al         Albania    28748.0    27398.0      1350.0  3.029278e+06   \n2      3   ag         Algeria  2381741.0  2381741.0         0.0  3.954217e+07   \n3      4   an         Andorra      468.0      468.0         0.0  8.558000e+04   \n4      5   ao          Angola  1246700.0  1246700.0         0.0  1.962535e+07   \n..   ...  ...             ...        ...        ...         ...           ...   \n256  257   zh  Atlantic Ocean        NaN        NaN         NaN           NaN   \n257  258   xo    Indian Ocean        NaN        NaN         NaN           NaN   \n258  259   zn   Pacific Ocean        NaN        NaN         NaN           NaN   \n259  260   oo  Southern Ocean        NaN        NaN         NaN           NaN   \n260  261   xx           World        NaN        NaN         NaN  7.256490e+09   \n\n     population_growth  birth_rate  death_rate  migration_rate  \n0                 2.32       38.57       13.89            1.51  \n1                 0.30       12.92        6.58            3.30  \n2                 1.84       23.67        4.31            0.92  \n3                 0.12        8.13        6.96            0.00  \n4                 2.78       38.78       11.49            0.46  \n..                 ...         ...         ...             ...  \n256                NaN         NaN         NaN             NaN  \n257                NaN         NaN         NaN             NaN  \n258                NaN         NaN         NaN             NaN  \n259                NaN         NaN         NaN             NaN  \n260               1.08       18.60        7.80             NaN  \n\n[261 rows x 11 columns]",
      "text/html": "<div>\n<style scoped>\n    .dataframe tbody tr th:only-of-type {\n        vertical-align: middle;\n    }\n\n    .dataframe tbody tr th {\n        vertical-align: top;\n    }\n\n    .dataframe thead th {\n        text-align: right;\n    }\n</style>\n<table border=\"1\" class=\"dataframe\">\n  <thead>\n    <tr style=\"text-align: right;\">\n      <th></th>\n      <th>id</th>\n      <th>code</th>\n      <th>name</th>\n      <th>area</th>\n      <th>area_land</th>\n      <th>area_water</th>\n      <th>population</th>\n      <th>population_growth</th>\n      <th>birth_rate</th>\n      <th>death_rate</th>\n      <th>migration_rate</th>\n    </tr>\n  </thead>\n  <tbody>\n    <tr>\n      <th>0</th>\n      <td>1</td>\n      <td>af</td>\n      <td>Afghanistan</td>\n      <td>652230.0</td>\n      <td>652230.0</td>\n      <td>0.0</td>\n      <td>3.256434e+07</td>\n      <td>2.32</td>\n      <td>38.57</td>\n      <td>13.89</td>\n      <td>1.51</td>\n    </tr>\n    <tr>\n      <th>1</th>\n      <td>2</td>\n      <td>al</td>\n      <td>Albania</td>\n      <td>28748.0</td>\n      <td>27398.0</td>\n      <td>1350.0</td>\n      <td>3.029278e+06</td>\n      <td>0.30</td>\n      <td>12.92</td>\n      <td>6.58</td>\n      <td>3.30</td>\n    </tr>\n    <tr>\n      <th>2</th>\n      <td>3</td>\n      <td>ag</td>\n      <td>Algeria</td>\n      <td>2381741.0</td>\n      <td>2381741.0</td>\n      <td>0.0</td>\n      <td>3.954217e+07</td>\n      <td>1.84</td>\n      <td>23.67</td>\n      <td>4.31</td>\n      <td>0.92</td>\n    </tr>\n    <tr>\n      <th>3</th>\n      <td>4</td>\n      <td>an</td>\n      <td>Andorra</td>\n      <td>468.0</td>\n      <td>468.0</td>\n      <td>0.0</td>\n      <td>8.558000e+04</td>\n      <td>0.12</td>\n      <td>8.13</td>\n      <td>6.96</td>\n      <td>0.00</td>\n    </tr>\n    <tr>\n      <th>4</th>\n      <td>5</td>\n      <td>ao</td>\n      <td>Angola</td>\n      <td>1246700.0</td>\n      <td>1246700.0</td>\n      <td>0.0</td>\n      <td>1.962535e+07</td>\n      <td>2.78</td>\n      <td>38.78</td>\n      <td>11.49</td>\n      <td>0.46</td>\n    </tr>\n    <tr>\n      <th>...</th>\n      <td>...</td>\n      <td>...</td>\n      <td>...</td>\n      <td>...</td>\n      <td>...</td>\n      <td>...</td>\n      <td>...</td>\n      <td>...</td>\n      <td>...</td>\n      <td>...</td>\n      <td>...</td>\n    </tr>\n    <tr>\n      <th>256</th>\n      <td>257</td>\n      <td>zh</td>\n      <td>Atlantic Ocean</td>\n      <td>NaN</td>\n      <td>NaN</td>\n      <td>NaN</td>\n      <td>NaN</td>\n      <td>NaN</td>\n      <td>NaN</td>\n      <td>NaN</td>\n      <td>NaN</td>\n    </tr>\n    <tr>\n      <th>257</th>\n      <td>258</td>\n      <td>xo</td>\n      <td>Indian Ocean</td>\n      <td>NaN</td>\n      <td>NaN</td>\n      <td>NaN</td>\n      <td>NaN</td>\n      <td>NaN</td>\n      <td>NaN</td>\n      <td>NaN</td>\n      <td>NaN</td>\n    </tr>\n    <tr>\n      <th>258</th>\n      <td>259</td>\n      <td>zn</td>\n      <td>Pacific Ocean</td>\n      <td>NaN</td>\n      <td>NaN</td>\n      <td>NaN</td>\n      <td>NaN</td>\n      <td>NaN</td>\n      <td>NaN</td>\n      <td>NaN</td>\n      <td>NaN</td>\n    </tr>\n    <tr>\n      <th>259</th>\n      <td>260</td>\n      <td>oo</td>\n      <td>Southern Ocean</td>\n      <td>NaN</td>\n      <td>NaN</td>\n      <td>NaN</td>\n      <td>NaN</td>\n      <td>NaN</td>\n      <td>NaN</td>\n      <td>NaN</td>\n      <td>NaN</td>\n    </tr>\n    <tr>\n      <th>260</th>\n      <td>261</td>\n      <td>xx</td>\n      <td>World</td>\n      <td>NaN</td>\n      <td>NaN</td>\n      <td>NaN</td>\n      <td>7.256490e+09</td>\n      <td>1.08</td>\n      <td>18.60</td>\n      <td>7.80</td>\n      <td>NaN</td>\n    </tr>\n  </tbody>\n</table>\n<p>261 rows × 11 columns</p>\n</div>"
     },
     "execution_count": 7,
     "metadata": {},
     "output_type": "execute_result"
    }
   ],
   "source": [
    "pd.read_sql(\n",
    "    \"\"\"\n",
    "        select *\n",
    "        from facts\n",
    "        ;\n",
    "    \"\"\"\n",
    ", conn)"
   ],
   "metadata": {
    "collapsed": false,
    "pycharm": {
     "name": "#%%\n"
    }
   }
  },
  {
   "cell_type": "code",
   "execution_count": 12,
   "outputs": [
    {
     "data": {
      "text/plain": "    name  population\n0  China  1367485388",
      "text/html": "<div>\n<style scoped>\n    .dataframe tbody tr th:only-of-type {\n        vertical-align: middle;\n    }\n\n    .dataframe tbody tr th {\n        vertical-align: top;\n    }\n\n    .dataframe thead th {\n        text-align: right;\n    }\n</style>\n<table border=\"1\" class=\"dataframe\">\n  <thead>\n    <tr style=\"text-align: right;\">\n      <th></th>\n      <th>name</th>\n      <th>population</th>\n    </tr>\n  </thead>\n  <tbody>\n    <tr>\n      <th>0</th>\n      <td>China</td>\n      <td>1367485388</td>\n    </tr>\n  </tbody>\n</table>\n</div>"
     },
     "execution_count": 12,
     "metadata": {},
     "output_type": "execute_result"
    }
   ],
   "source": [
    "pd.read_sql(\n",
    "    \"\"\"\n",
    "        select name , max(population) as population\n",
    "        from facts\n",
    "        where name != 'World'\n",
    "        ;\n",
    "    \"\"\"\n",
    ", conn)"
   ],
   "metadata": {
    "collapsed": false,
    "pycharm": {
     "name": "#%%\n"
    }
   }
  },
  {
   "cell_type": "code",
   "execution_count": 19,
   "outputs": [
    {
     "data": {
      "text/plain": "         name  population\n0  Antarctica           0",
      "text/html": "<div>\n<style scoped>\n    .dataframe tbody tr th:only-of-type {\n        vertical-align: middle;\n    }\n\n    .dataframe tbody tr th {\n        vertical-align: top;\n    }\n\n    .dataframe thead th {\n        text-align: right;\n    }\n</style>\n<table border=\"1\" class=\"dataframe\">\n  <thead>\n    <tr style=\"text-align: right;\">\n      <th></th>\n      <th>name</th>\n      <th>population</th>\n    </tr>\n  </thead>\n  <tbody>\n    <tr>\n      <th>0</th>\n      <td>Antarctica</td>\n      <td>0</td>\n    </tr>\n  </tbody>\n</table>\n</div>"
     },
     "execution_count": 19,
     "metadata": {},
     "output_type": "execute_result"
    }
   ],
   "source": [
    "pd.read_sql(\n",
    "    \"\"\"\n",
    "        select name , min(population) as population\n",
    "        from facts\n",
    "        where name != 'World'\n",
    "        ;\n",
    "    \"\"\"\n",
    ", conn)"
   ],
   "metadata": {
    "collapsed": false,
    "pycharm": {
     "name": "#%%\n"
    }
   }
  },
  {
   "cell_type": "code",
   "execution_count": 20,
   "outputs": [
    {
     "data": {
      "text/plain": "    name  birth_rate\n0  Niger       45.45",
      "text/html": "<div>\n<style scoped>\n    .dataframe tbody tr th:only-of-type {\n        vertical-align: middle;\n    }\n\n    .dataframe tbody tr th {\n        vertical-align: top;\n    }\n\n    .dataframe thead th {\n        text-align: right;\n    }\n</style>\n<table border=\"1\" class=\"dataframe\">\n  <thead>\n    <tr style=\"text-align: right;\">\n      <th></th>\n      <th>name</th>\n      <th>birth_rate</th>\n    </tr>\n  </thead>\n  <tbody>\n    <tr>\n      <th>0</th>\n      <td>Niger</td>\n      <td>45.45</td>\n    </tr>\n  </tbody>\n</table>\n</div>"
     },
     "execution_count": 20,
     "metadata": {},
     "output_type": "execute_result"
    }
   ],
   "source": [
    "pd.read_sql(\n",
    "    \"\"\"\n",
    "        select name , max(birth_rate) as birth_rate\n",
    "        from facts\n",
    "        where name != 'World'\n",
    "        ;\n",
    "    \"\"\"\n",
    ", conn)"
   ],
   "metadata": {
    "collapsed": false,
    "pycharm": {
     "name": "#%%\n"
    }
   }
  },
  {
   "cell_type": "code",
   "execution_count": 17,
   "outputs": [
    {
     "data": {
      "text/plain": "    name  population_density\n0  Macau               21168",
      "text/html": "<div>\n<style scoped>\n    .dataframe tbody tr th:only-of-type {\n        vertical-align: middle;\n    }\n\n    .dataframe tbody tr th {\n        vertical-align: top;\n    }\n\n    .dataframe thead th {\n        text-align: right;\n    }\n</style>\n<table border=\"1\" class=\"dataframe\">\n  <thead>\n    <tr style=\"text-align: right;\">\n      <th></th>\n      <th>name</th>\n      <th>population_density</th>\n    </tr>\n  </thead>\n  <tbody>\n    <tr>\n      <th>0</th>\n      <td>Macau</td>\n      <td>21168</td>\n    </tr>\n  </tbody>\n</table>\n</div>"
     },
     "execution_count": 17,
     "metadata": {},
     "output_type": "execute_result"
    }
   ],
   "source": [
    "pd.read_sql(\n",
    "    \"\"\"\n",
    "        select name , max(population/area) as population_density\n",
    "        from facts\n",
    "        where name != 'World'\n",
    "        ;\n",
    "    \"\"\"\n",
    ", conn)"
   ],
   "metadata": {
    "collapsed": false,
    "pycharm": {
     "name": "#%%\n"
    }
   }
  },
  {
   "cell_type": "code",
   "execution_count": 18,
   "outputs": [
    {
     "data": {
      "text/plain": "        name  population_density\n0  Greenland                   0",
      "text/html": "<div>\n<style scoped>\n    .dataframe tbody tr th:only-of-type {\n        vertical-align: middle;\n    }\n\n    .dataframe tbody tr th {\n        vertical-align: top;\n    }\n\n    .dataframe thead th {\n        text-align: right;\n    }\n</style>\n<table border=\"1\" class=\"dataframe\">\n  <thead>\n    <tr style=\"text-align: right;\">\n      <th></th>\n      <th>name</th>\n      <th>population_density</th>\n    </tr>\n  </thead>\n  <tbody>\n    <tr>\n      <th>0</th>\n      <td>Greenland</td>\n      <td>0</td>\n    </tr>\n  </tbody>\n</table>\n</div>"
     },
     "execution_count": 18,
     "metadata": {},
     "output_type": "execute_result"
    }
   ],
   "source": [
    "pd.read_sql(\n",
    "    \"\"\"\n",
    "        select name , min(population/area) as population_density\n",
    "        from facts\n",
    "        where name != 'World'\n",
    "        ;\n",
    "    \"\"\"\n",
    ", conn)"
   ],
   "metadata": {
    "collapsed": false,
    "pycharm": {
     "name": "#%%\n"
    }
   }
  },
  {
   "cell_type": "code",
   "execution_count": 26,
   "outputs": [
    {
     "data": {
      "text/plain": "                              name\n0                            Qatar\n1                   American Samoa\n2  Micronesia, Federated States of\n3                            Syria\n4                            Tonga\n5           British Virgin Islands\n6                       Luxembourg\n7                   Cayman Islands\n8                        Singapore\n9                            Nauru",
      "text/html": "<div>\n<style scoped>\n    .dataframe tbody tr th:only-of-type {\n        vertical-align: middle;\n    }\n\n    .dataframe tbody tr th {\n        vertical-align: top;\n    }\n\n    .dataframe thead th {\n        text-align: right;\n    }\n</style>\n<table border=\"1\" class=\"dataframe\">\n  <thead>\n    <tr style=\"text-align: right;\">\n      <th></th>\n      <th>name</th>\n    </tr>\n  </thead>\n  <tbody>\n    <tr>\n      <th>0</th>\n      <td>Qatar</td>\n    </tr>\n    <tr>\n      <th>1</th>\n      <td>American Samoa</td>\n    </tr>\n    <tr>\n      <th>2</th>\n      <td>Micronesia, Federated States of</td>\n    </tr>\n    <tr>\n      <th>3</th>\n      <td>Syria</td>\n    </tr>\n    <tr>\n      <th>4</th>\n      <td>Tonga</td>\n    </tr>\n    <tr>\n      <th>5</th>\n      <td>British Virgin Islands</td>\n    </tr>\n    <tr>\n      <th>6</th>\n      <td>Luxembourg</td>\n    </tr>\n    <tr>\n      <th>7</th>\n      <td>Cayman Islands</td>\n    </tr>\n    <tr>\n      <th>8</th>\n      <td>Singapore</td>\n    </tr>\n    <tr>\n      <th>9</th>\n      <td>Nauru</td>\n    </tr>\n  </tbody>\n</table>\n</div>"
     },
     "execution_count": 26,
     "metadata": {},
     "output_type": "execute_result"
    }
   ],
   "source": [
    "pd.read_sql(\n",
    "    \"\"\"\n",
    "        select name\n",
    "        from facts\n",
    "        where name != 'World'\n",
    "        order by migration_rate desc\n",
    "        limit 10\n",
    "        ;\n",
    "    \"\"\"\n",
    ", conn)"
   ],
   "metadata": {
    "collapsed": false,
    "pycharm": {
     "name": "#%%\n"
    }
   }
  },
  {
   "cell_type": "code",
   "execution_count": 28,
   "outputs": [
    {
     "data": {
      "text/plain": "                   name\n0            Gaza Strip\n1                Kuwait\n2                  Iraq\n3  United Arab Emirates\n4                  Oman",
      "text/html": "<div>\n<style scoped>\n    .dataframe tbody tr th:only-of-type {\n        vertical-align: middle;\n    }\n\n    .dataframe tbody tr th {\n        vertical-align: top;\n    }\n\n    .dataframe thead th {\n        text-align: right;\n    }\n</style>\n<table border=\"1\" class=\"dataframe\">\n  <thead>\n    <tr style=\"text-align: right;\">\n      <th></th>\n      <th>name</th>\n    </tr>\n  </thead>\n  <tbody>\n    <tr>\n      <th>0</th>\n      <td>Gaza Strip</td>\n    </tr>\n    <tr>\n      <th>1</th>\n      <td>Kuwait</td>\n    </tr>\n    <tr>\n      <th>2</th>\n      <td>Iraq</td>\n    </tr>\n    <tr>\n      <th>3</th>\n      <td>United Arab Emirates</td>\n    </tr>\n    <tr>\n      <th>4</th>\n      <td>Oman</td>\n    </tr>\n  </tbody>\n</table>\n</div>"
     },
     "execution_count": 28,
     "metadata": {},
     "output_type": "execute_result"
    }
   ],
   "source": [
    "pd.read_sql(\n",
    "    \"\"\"\n",
    "        select name\n",
    "        from facts\n",
    "        where name != 'World'\n",
    "        order by (birth_rate / death_rate) desc\n",
    "        limit 5\n",
    "        ;\n",
    "    \"\"\"\n",
    ", conn)"
   ],
   "metadata": {
    "collapsed": false,
    "pycharm": {
     "name": "#%%\n"
    }
   }
  },
  {
   "cell_type": "code",
   "execution_count": null,
   "outputs": [],
   "source": [],
   "metadata": {
    "collapsed": false,
    "pycharm": {
     "name": "#%%\n"
    }
   }
  }
 ],
 "metadata": {
  "kernelspec": {
   "display_name": "Python 3",
   "language": "python",
   "name": "python3"
  },
  "language_info": {
   "codemirror_mode": {
    "name": "ipython",
    "version": 2
   },
   "file_extension": ".py",
   "mimetype": "text/x-python",
   "name": "python",
   "nbconvert_exporter": "python",
   "pygments_lexer": "ipython2",
   "version": "2.7.6"
  }
 },
 "nbformat": 4,
 "nbformat_minor": 0
}